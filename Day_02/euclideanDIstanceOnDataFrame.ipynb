{
  "cells": [
    {
      "cell_type": "markdown",
      "source": [
        "Calculateing euclidean distance"
      ],
      "metadata": {
        "id": "pPxR7AHXxpu7"
      },
      "id": "pPxR7AHXxpu7"
    },
    {
      "cell_type": "code",
      "source": [
        "def CalculateEuclidean(a,b,x,y):\n",
        "  return np.sqrt(((x - a)**2) + ((y-b)**2))"
      ],
      "metadata": {
        "id": "3GB1NZvC3VXY"
      },
      "id": "3GB1NZvC3VXY",
      "execution_count": 19,
      "outputs": []
    },
    {
      "cell_type": "code",
      "source": [
        "import numpy as np\n",
        "\n",
        "a = 57\n",
        "b = 170\n",
        "\n",
        "weight = [51,62,69,64,65,56,58,57,55]\n",
        "height = [167,182,176,173,172,174,169,173,170]\n",
        "\n",
        "for x, y in zip(weight, height):\n",
        " ecd = np.sqrt(((x - a)**2) + ((y-b)**2))\n",
        " print(ecd)\n",
        "\n"
      ],
      "metadata": {
        "id": "Mj483l9Axuai",
        "outputId": "624212ac-83ff-4b4e-f0a9-d098f816ec47",
        "colab": {
          "base_uri": "https://localhost:8080/"
        }
      },
      "id": "Mj483l9Axuai",
      "execution_count": 3,
      "outputs": [
        {
          "output_type": "stream",
          "name": "stdout",
          "text": [
            "6.708203932499369\n",
            "13.0\n",
            "13.416407864998739\n",
            "7.615773105863909\n",
            "8.246211251235321\n",
            "4.123105625617661\n",
            "1.4142135623730951\n",
            "3.0\n",
            "2.0\n"
          ]
        }
      ]
    },
    {
      "cell_type": "markdown",
      "source": [
        "**LOAN Data **"
      ],
      "metadata": {
        "id": "RkhbAgSrbNPs"
      },
      "id": "RkhbAgSrbNPs"
    },
    {
      "cell_type": "code",
      "source": [
        "import pandas as pd\n",
        "\n",
        "dt = {\n",
        "    \"age\":[25, 35,45,20,35,52,23,40,60,48,33],\n",
        "    \"salary\" : [40000,60000,80000,20000,120000,18000,95000,62000,1000000,220000,150000],\n",
        "    \"loan\" : ['N','N','N','N', 'N','N','Y','Y','Y','Y','Y']\n",
        "}\n",
        "dataFrame = pd.DataFrame(dt);\n",
        "print(dataFrame)"
      ],
      "metadata": {
        "id": "kZacePNO-ghH",
        "outputId": "16704479-c793-40cf-8e08-7031fc3148b7",
        "colab": {
          "base_uri": "https://localhost:8080/"
        }
      },
      "id": "kZacePNO-ghH",
      "execution_count": 44,
      "outputs": [
        {
          "output_type": "stream",
          "name": "stdout",
          "text": [
            "    age   salary loan\n",
            "0    25    40000    N\n",
            "1    35    60000    N\n",
            "2    45    80000    N\n",
            "3    20    20000    N\n",
            "4    35   120000    N\n",
            "5    52    18000    N\n",
            "6    23    95000    Y\n",
            "7    40    62000    Y\n",
            "8    60  1000000    Y\n",
            "9    48   220000    Y\n",
            "10   33   150000    Y\n"
          ]
        }
      ]
    },
    {
      "cell_type": "markdown",
      "source": [
        "**APPROACH 1 **"
      ],
      "metadata": {
        "id": "GvplfVl2bXoD"
      },
      "id": "GvplfVl2bXoD"
    },
    {
      "cell_type": "code",
      "source": [
        "a = 48\n",
        "b = 142000\n",
        "age = dataFrame['age']\n",
        "salary = dataFrame['salary']\n",
        "loan = dataFrame['loan']\n",
        "\n",
        "\n",
        "distance = []\n",
        "for x, y in zip(age, salary):\n",
        "  distance.append(CalculateEuclidean(a, b, x, y))\n",
        "\n",
        "print(distance)"
      ],
      "metadata": {
        "id": "hM95MJBt2pO8",
        "outputId": "e622dec4-64d4-400a-a808-5deaa14103f6",
        "colab": {
          "base_uri": "https://localhost:8080/"
        }
      },
      "id": "hM95MJBt2pO8",
      "execution_count": 59,
      "outputs": [
        {
          "output_type": "stream",
          "name": "stdout",
          "text": [
            "[102000.00259313722, 82000.0010304878, 62000.000072580646, 122000.00321311472, 22000.003840908757, 124000.00006451613, 47000.0066489357, 80000.0004, 858000.0000839161, 78000.0, 8000.01406248764]\n"
          ]
        }
      ]
    },
    {
      "cell_type": "code",
      "source": [
        "newDistance = []\n",
        "cnt = 0;\n",
        "for i in distance:\n",
        "  newDistance.append([i,cnt])\n",
        "  cnt += 1\n",
        "\n",
        "newDistance.sort()\n",
        "print (newDistance)"
      ],
      "metadata": {
        "id": "fThH5vLY97_M",
        "outputId": "7dbbb50d-4ba5-4df5-a407-43f8d14a75e2",
        "colab": {
          "base_uri": "https://localhost:8080/"
        }
      },
      "id": "fThH5vLY97_M",
      "execution_count": 41,
      "outputs": [
        {
          "output_type": "stream",
          "name": "stdout",
          "text": [
            "[[8000.01406248764, 0], [22000.003840908757, 1], [47000.0066489357, 2], [62000.000072580646, 3], [78000.0, 4], [80000.0004, 5], [82000.0010304878, 6], [102000.00259313722, 7], [122000.00321311472, 8], [124000.00006451613, 9], [858000.0000839161, 10]]\n"
          ]
        }
      ]
    },
    {
      "cell_type": "code",
      "source": [
        "yCnt = 0;\n",
        "nCnt = 0;\n",
        "for i in newDistance[:3]:\n",
        "  if loan[i[1]] == 'Y' :\n",
        "    yCnt += 1\n",
        "  else:\n",
        "    nCnt += 1\n",
        "\n",
        "result = 'Y' if yCnt > nCnt else 'N'\n",
        "print(f\"Group of (a =  {a}, b = {b}) is -> {result}\")"
      ],
      "metadata": {
        "id": "eUjNvUtj7iES",
        "outputId": "94078a2b-9322-4f64-9b19-46869ab60c50",
        "colab": {
          "base_uri": "https://localhost:8080/"
        }
      },
      "id": "eUjNvUtj7iES",
      "execution_count": 42,
      "outputs": [
        {
          "output_type": "stream",
          "name": "stdout",
          "text": [
            "Group of (a =  48, b = 142000) is -> N\n"
          ]
        }
      ]
    },
    {
      "cell_type": "markdown",
      "source": [
        "Add distance into dataFrame  "
      ],
      "metadata": {
        "id": "12J6GtEKQ_-T"
      },
      "id": "12J6GtEKQ_-T"
    },
    {
      "cell_type": "code",
      "source": [
        "# dataFrame['distance'] = distance\n",
        "print(dataFrame)"
      ],
      "metadata": {
        "id": "LmadHhSf-PxL",
        "colab": {
          "base_uri": "https://localhost:8080/"
        },
        "outputId": "c1c59357-981c-498d-89a9-19b3d6772b29"
      },
      "id": "LmadHhSf-PxL",
      "execution_count": 88,
      "outputs": [
        {
          "output_type": "stream",
          "name": "stdout",
          "text": [
            "    age   salary loan           dist\n",
            "0    25    40000    N  102000.002593\n",
            "1    35    60000    N   82000.001030\n",
            "2    45    80000    N   62000.000073\n",
            "3    20    20000    N  122000.003213\n",
            "4    35   120000    N   22000.003841\n",
            "5    52    18000    N  124000.000065\n",
            "6    23    95000    Y   47000.006649\n",
            "7    40    62000    Y   80000.000400\n",
            "8    60  1000000    Y  858000.000084\n",
            "9    48   220000    Y   78000.000000\n",
            "10   33   150000    Y    8000.014062\n"
          ]
        }
      ]
    },
    {
      "cell_type": "code",
      "source": [
        "dataFrame[\"dist\"]=np.sqrt((age - a)**2+ (salary -b )**2)   # another approach to calulating distance directly"
      ],
      "metadata": {
        "id": "zIWV4Wr_-P0A"
      },
      "id": "zIWV4Wr_-P0A",
      "execution_count": 50,
      "outputs": []
    },
    {
      "cell_type": "code",
      "source": [
        "print(dataFrame)"
      ],
      "metadata": {
        "id": "Pm3iiq3W-P2M",
        "colab": {
          "base_uri": "https://localhost:8080/"
        },
        "outputId": "874bd1b6-2c7e-41f8-8bf9-61972377edc1"
      },
      "id": "Pm3iiq3W-P2M",
      "execution_count": 69,
      "outputs": [
        {
          "output_type": "stream",
          "name": "stdout",
          "text": [
            "    age   salary loan           dist\n",
            "0    25    40000    N  102000.002593\n",
            "1    35    60000    N   82000.001030\n",
            "2    45    80000    N   62000.000073\n",
            "3    20    20000    N  122000.003213\n",
            "4    35   120000    N   22000.003841\n",
            "5    52    18000    N  124000.000065\n",
            "6    23    95000    Y   47000.006649\n",
            "7    40    62000    Y   80000.000400\n",
            "8    60  1000000    Y  858000.000084\n",
            "9    48   220000    Y   78000.000000\n",
            "10   33   150000    Y    8000.014062\n"
          ]
        }
      ]
    },
    {
      "cell_type": "code",
      "source": [
        "from os import access\n",
        "# list=[1,4,7,9,57]\n",
        "# np.min(list)\n",
        "distance.sort()\n",
        "\n",
        "k3 = dataFrame[dataFrame['dist'] <= distance[2]]['loan'].value_counts()\n",
        "\n",
        "if k3.Y > k3.N :\n",
        "  print(\"Group Y\")\n",
        "else :\n",
        "  print(\"Group N\")"
      ],
      "metadata": {
        "id": "KhVTiIdT-P5h",
        "colab": {
          "base_uri": "https://localhost:8080/"
        },
        "outputId": "dc414fc7-ccb1-4fc1-af31-51564151b0f3"
      },
      "id": "KhVTiIdT-P5h",
      "execution_count": 87,
      "outputs": [
        {
          "output_type": "stream",
          "name": "stdout",
          "text": [
            "47000.0066489357\n",
            "Group Y\n"
          ]
        }
      ]
    },
    {
      "cell_type": "code",
      "source": [],
      "metadata": {
        "id": "McfxmuxtVsZM"
      },
      "id": "McfxmuxtVsZM",
      "execution_count": null,
      "outputs": []
    }
  ],
  "metadata": {
    "kernelspec": {
      "display_name": "Python 3",
      "name": "python3"
    },
    "language_info": {
      "name": "python"
    },
    "required_libs": [],
    "colab": {
      "provenance": []
    }
  },
  "nbformat": 4,
  "nbformat_minor": 5
}