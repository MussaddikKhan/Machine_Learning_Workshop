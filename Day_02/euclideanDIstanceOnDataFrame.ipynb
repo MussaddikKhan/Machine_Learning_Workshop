{
  "cells": [
    {
      "cell_type": "markdown",
      "source": [
        "Calculateing euclidean distance"
      ],
      "metadata": {
        "id": "pPxR7AHXxpu7"
      },
      "id": "pPxR7AHXxpu7"
    },
    {
      "cell_type": "code",
      "source": [
        "def CalculateEuclidean(a,b,x,y):\n",
        "  return np.sqrt(((x - a)**2) + ((y-b)**2))"
      ],
      "metadata": {
        "id": "3GB1NZvC3VXY"
      },
      "id": "3GB1NZvC3VXY",
      "execution_count": 30,
      "outputs": []
    },
    {
      "cell_type": "code",
      "source": [
        "import numpy as np\n",
        "\n",
        "a = 57\n",
        "b = 170\n",
        "\n",
        "weight = [51,62,69,64,65,56,58,57,55]\n",
        "height = [167,182,176,173,172,174,169,173,170]\n",
        "\n",
        "for x, y in zip(weight, height):\n",
        " ecd = np.sqrt(((x - a)**2) + ((y-b)**2))\n",
        " print(ecd)\n",
        "\n"
      ],
      "metadata": {
        "id": "Mj483l9Axuai",
        "outputId": "ca19d458-83c5-46d8-edf8-799b28bbead1",
        "colab": {
          "base_uri": "https://localhost:8080/"
        }
      },
      "id": "Mj483l9Axuai",
      "execution_count": 12,
      "outputs": [
        {
          "output_type": "stream",
          "name": "stdout",
          "text": [
            "6.708203932499369\n",
            "13.0\n",
            "13.416407864998739\n",
            "7.615773105863909\n",
            "8.246211251235321\n",
            "4.123105625617661\n",
            "1.4142135623730951\n",
            "3.0\n",
            "2.0\n",
            "[17830.000701065605, 19830.03451837641, 39830.01285463011, 59830.004044793444, 61830.00233705316, 79830.00090191657, 94830.00609511738, 119830.00201952764, 149830.00192217846, 219830.00018423327, 999830.0000045007]\n"
          ]
        }
      ]
    },
    {
      "cell_type": "code",
      "source": [
        "import pandas as pd\n",
        "\n",
        "dt = {\n",
        "    \"age\":[25, 35,45,20,35,52,23,40,60,48,33],\n",
        "    \"salary\" : [40000,60000,80000,20000,120000,18000,95000,62000,1000000,220000,150000],\n",
        "    \"loan\" : ['N','N','N','N', 'N','N','Y','Y','Y','Y','Y']\n",
        "}\n",
        "dataFrame = pd.DataFrame(dt);\n",
        "print(dataFrame)"
      ],
      "metadata": {
        "id": "kZacePNO-ghH",
        "outputId": "1614b936-e299-4187-9283-8b1c17092cc5",
        "colab": {
          "base_uri": "https://localhost:8080/"
        }
      },
      "id": "kZacePNO-ghH",
      "execution_count": 31,
      "outputs": [
        {
          "output_type": "stream",
          "name": "stdout",
          "text": [
            "    age   salary loan\n",
            "0    25    40000    N\n",
            "1    35    60000    N\n",
            "2    45    80000    N\n",
            "3    20    20000    N\n",
            "4    35   120000    N\n",
            "5    52    18000    N\n",
            "6    23    95000    Y\n",
            "7    40    62000    Y\n",
            "8    60  1000000    Y\n",
            "9    48   220000    Y\n",
            "10   33   150000    Y\n"
          ]
        }
      ]
    },
    {
      "cell_type": "code",
      "source": [
        "a = 48\n",
        "b = 142000\n",
        "age = dataFrame['age']\n",
        "salary = dataFrame['salary']\n",
        "loan = dataFrame['loan']\n",
        "\n",
        "distance = []\n",
        "for x, y in zip(age, salary):\n",
        " distance.append(CalculateEuclidean(a, b, x, y))\n",
        "\n",
        "print(distance)"
      ],
      "metadata": {
        "id": "hM95MJBt2pO8",
        "outputId": "571ca085-ab96-43a4-8be7-085e8f9d9d58",
        "colab": {
          "base_uri": "https://localhost:8080/"
        }
      },
      "id": "hM95MJBt2pO8",
      "execution_count": 32,
      "outputs": [
        {
          "output_type": "stream",
          "name": "stdout",
          "text": [
            "[102000.00259313722, 82000.0010304878, 62000.000072580646, 122000.00321311472, 22000.003840908757, 124000.00006451613, 47000.0066489357, 80000.0004, 858000.0000839161, 78000.0, 8000.01406248764]\n"
          ]
        }
      ]
    },
    {
      "cell_type": "code",
      "source": [
        "newDistance = []\n",
        "cnt = 0;\n",
        "for i in distance:\n",
        "  newDistance.append([i,cnt])\n",
        "  cnt += 1\n",
        "\n",
        "newDistance.sort()\n",
        "print (newDistance)"
      ],
      "metadata": {
        "id": "fThH5vLY97_M",
        "outputId": "bf7cb2ad-7e86-4d31-afad-06b9dd669156",
        "colab": {
          "base_uri": "https://localhost:8080/"
        }
      },
      "id": "fThH5vLY97_M",
      "execution_count": 33,
      "outputs": [
        {
          "output_type": "stream",
          "name": "stdout",
          "text": [
            "[[8000.01406248764, 10], [22000.003840908757, 4], [47000.0066489357, 6], [62000.000072580646, 2], [78000.0, 9], [80000.0004, 7], [82000.0010304878, 1], [102000.00259313722, 0], [122000.00321311472, 3], [124000.00006451613, 5], [858000.0000839161, 8]]\n"
          ]
        }
      ]
    },
    {
      "cell_type": "code",
      "source": [
        "yCnt = 0;\n",
        "nCnt = 0;\n",
        "for i in newDistance[:3]:\n",
        "  if loan[i[1]] == 'Y' :\n",
        "    yCnt += 1\n",
        "  else:\n",
        "    nCnt += 1\n",
        "\n",
        "result = 'Y' if yCnt > nCnt else 'N'\n",
        "print(f\"Group of (a =  {a}, b = {b}) is -> {result}\")"
      ],
      "metadata": {
        "id": "eUjNvUtj7iES",
        "outputId": "fe07c32b-2a2c-4923-d57e-21405389f661",
        "colab": {
          "base_uri": "https://localhost:8080/"
        }
      },
      "id": "eUjNvUtj7iES",
      "execution_count": 38,
      "outputs": [
        {
          "output_type": "stream",
          "name": "stdout",
          "text": [
            "Group of (a =  48, b = 142000) is -> Y\n"
          ]
        }
      ]
    },
    {
      "cell_type": "code",
      "source": [],
      "metadata": {
        "id": "LmadHhSf-PxL"
      },
      "id": "LmadHhSf-PxL",
      "execution_count": null,
      "outputs": []
    },
    {
      "cell_type": "code",
      "source": [],
      "metadata": {
        "id": "zIWV4Wr_-P0A"
      },
      "id": "zIWV4Wr_-P0A",
      "execution_count": null,
      "outputs": []
    },
    {
      "cell_type": "code",
      "source": [],
      "metadata": {
        "id": "Pm3iiq3W-P2M"
      },
      "id": "Pm3iiq3W-P2M",
      "execution_count": null,
      "outputs": []
    },
    {
      "cell_type": "code",
      "source": [],
      "metadata": {
        "id": "KhVTiIdT-P5h"
      },
      "id": "KhVTiIdT-P5h",
      "execution_count": null,
      "outputs": []
    }
  ],
  "metadata": {
    "kernelspec": {
      "display_name": "Python 3",
      "name": "python3"
    },
    "language_info": {
      "name": "python"
    },
    "required_libs": [],
    "colab": {
      "provenance": []
    }
  },
  "nbformat": 4,
  "nbformat_minor": 5
}