{
  "cells": [
    {
      "cell_type": "markdown",
      "metadata": {
        "id": "view-in-github",
        "colab_type": "text"
      },
      "source": [
        "<a href=\"https://colab.research.google.com/github/MussaddikKhan/Machine_Learning_Workshop/blob/master/Day_03/CalculatingEntropyGainForDT.ipynb\" target=\"_parent\"><img src=\"https://colab.research.google.com/assets/colab-badge.svg\" alt=\"Open In Colab\"/></a>"
      ]
    },
    {
      "cell_type": "code",
      "source": [
        "import numpy as np\n"
      ],
      "metadata": {
        "id": "jS0WBhAJCPjm"
      },
      "id": "jS0WBhAJCPjm",
      "execution_count": 1,
      "outputs": []
    },
    {
      "cell_type": "code",
      "source": [
        "def ent(a,p):\n",
        "  return -(a/p)*np.log2(a/p);\n",
        ""
      ],
      "metadata": {
        "id": "Hmb6AtcGCWx0"
      },
      "id": "Hmb6AtcGCWx0",
      "execution_count": 2,
      "outputs": []
    },
    {
      "cell_type": "code",
      "source": [
        "Entropy = ent(6, 10) + ent(2, 10) + ent(2,10);\n",
        "print(Entropy)"
      ],
      "metadata": {
        "id": "rSx2FkRECW8I",
        "outputId": "cc7609e7-1e74-495f-9304-c1b45aff01b2",
        "colab": {
          "base_uri": "https://localhost:8080/"
        }
      },
      "id": "rSx2FkRECW8I",
      "execution_count": 6,
      "outputs": [
        {
          "output_type": "stream",
          "name": "stdout",
          "text": [
            "1.3709505944546687\n"
          ]
        }
      ]
    },
    {
      "cell_type": "code",
      "source": [
        "sunny = ent(1, 3) + ent(2, 3)\n",
        "windy = ent(3,4) + ent(1,4)\n",
        "rainy = ent(2, 3) + ent(1,3)\n",
        "\n",
        "weather = (3/10) * sunny+ (4/10) *  windy + (3/10) *rainy\n",
        "print(weather)"
      ],
      "metadata": {
        "id": "En2aSmX-GhlY",
        "outputId": "8259cb07-1339-4a50-c4fe-ecf8356dbdf0",
        "colab": {
          "base_uri": "https://localhost:8080/"
        }
      },
      "id": "En2aSmX-GhlY",
      "execution_count": 7,
      "outputs": [
        {
          "output_type": "stream",
          "name": "stdout",
          "text": [
            "0.8754887502163469\n"
          ]
        }
      ]
    },
    {
      "cell_type": "code",
      "source": [
        "yes = ent(5,5)\n",
        "no = ent(1, 5) + ent(2, 5) + ent(2, 5)\n",
        "parents = (5/10) * yes + (5/10) * no\n",
        "print(parents)"
      ],
      "metadata": {
        "id": "F9hdziM9GhoH",
        "outputId": "de97fe82-f6ba-48de-9f76-934563476736",
        "colab": {
          "base_uri": "https://localhost:8080/"
        }
      },
      "id": "F9hdziM9GhoH",
      "execution_count": 12,
      "outputs": [
        {
          "output_type": "stream",
          "name": "stdout",
          "text": [
            "0.7609640474436811\n"
          ]
        }
      ]
    },
    {
      "cell_type": "code",
      "source": [
        "rich = ent(3,7) + ent(2, 7) + ent(2,7)\n",
        "poor = ent(3,3)\n",
        "money = (7/10) * rich + (3/10) * poor\n",
        "print(money)"
      ],
      "metadata": {
        "id": "kTAuXXPiGhtP",
        "outputId": "c6360b33-8f94-46b5-fe7a-96f1ace97a17",
        "colab": {
          "base_uri": "https://localhost:8080/"
        }
      },
      "id": "kTAuXXPiGhtP",
      "execution_count": 13,
      "outputs": [
        {
          "output_type": "stream",
          "name": "stdout",
          "text": [
            "1.0896596952239759\n"
          ]
        }
      ]
    },
    {
      "cell_type": "code",
      "source": [
        "weather_gain = Entropy - weather\n",
        "parent_gain = Entropy - parents\n",
        "money_gain = Entropy - money\n",
        "print(weather_gain)\n",
        "print(parent_gain)\n",
        "print(money_gain)"
      ],
      "metadata": {
        "id": "TNAWUk-OGhvH",
        "outputId": "c0a249c5-f0fe-4142-c396-fd584283f36c",
        "colab": {
          "base_uri": "https://localhost:8080/"
        }
      },
      "id": "TNAWUk-OGhvH",
      "execution_count": 14,
      "outputs": [
        {
          "output_type": "stream",
          "name": "stdout",
          "text": [
            "0.49546184423832185\n",
            "0.6099865470109876\n",
            "0.28129089923069284\n"
          ]
        }
      ]
    },
    {
      "cell_type": "code",
      "source": [],
      "metadata": {
        "id": "iAG-_DhXGhxH"
      },
      "id": "iAG-_DhXGhxH",
      "execution_count": null,
      "outputs": []
    }
  ],
  "metadata": {
    "kernelspec": {
      "display_name": "Python 3",
      "name": "python3"
    },
    "language_info": {
      "name": "python"
    },
    "required_libs": [],
    "colab": {
      "provenance": [],
      "include_colab_link": true
    }
  },
  "nbformat": 4,
  "nbformat_minor": 5
}